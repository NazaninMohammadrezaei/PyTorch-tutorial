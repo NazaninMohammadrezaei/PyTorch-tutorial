{
 "cells": [
  {
   "cell_type": "markdown",
   "metadata": {},
   "source": [
    "# Part 1 : Introduction "
   ]
  },
  {
   "cell_type": "code",
   "execution_count": 1,
   "metadata": {},
   "outputs": [
    {
     "name": "stdout",
     "output_type": "stream",
     "text": [
      "x * y = tensor([ 6., 15.]) \n",
      "\n",
      "\n",
      "z=\n",
      " [[0. 0. 0.]\n",
      " [0. 0. 0.]] \n",
      "\n",
      "\n",
      "The shape of x = \n",
      " torch.Size([2]) \n",
      "\n",
      "\n",
      "Random tensor = \n",
      "  tensor([[0.6793, 0.7024, 0.2809],\n",
      "        [0.1228, 0.4619, 0.8882]]) \n",
      "\n",
      "\n",
      "tensor([[0.6793, 0.7024, 0.2809, 0.1228, 0.4619, 0.8882]])\n"
     ]
    }
   ],
   "source": [
    "'''\n",
    "____________Author_____________\n",
    "Nazanin Mohammadrezaei\n",
    "\n",
    "__________ Resource ___________\n",
    "Sentdex YouTube channel\n",
    "\n",
    "___________ Playlist __________\n",
    "Deep Learning and Neural Networks using PyTorch\n",
    "\n",
    "___________ Video ____________\n",
    "Part 1 : introduction\n",
    "\n",
    "'''  \n",
    "\n",
    "import torch\n",
    "import numpy as np\n",
    "import torchvision\n",
    "from torchvision import transforms, datasets\n",
    "import matplotlib.pyplot as plt\n",
    "import torch.nn as nn\n",
    "import torch.nn.functional as F\n",
    "\n",
    "\n",
    "# introduction to tensors\n",
    "x = torch.Tensor([2, 5])\n",
    "y = torch.Tensor([3, 3])\n",
    "z = np.zeros([2,3])\n",
    "a = x.shape\n",
    "b = torch.rand([2,3])\n",
    "print('x * y =', x*y,'\\n\\n')\n",
    "print('z=\\n',z,'\\n\\n')\n",
    "print('The shape of x = \\n',a,'\\n\\n')\n",
    "print('Random tensor = \\n ',b,'\\n\\n')\n",
    "\n",
    "\n",
    "# the application of .view\n",
    "b = b.view([1,6])\n",
    "print(b)"
   ]
  }
 ],
 "metadata": {
  "kernelspec": {
   "display_name": "Python 3",
   "language": "python",
   "name": "python3"
  },
  "language_info": {
   "codemirror_mode": {
    "name": "ipython",
    "version": 3
   },
   "file_extension": ".py",
   "mimetype": "text/x-python",
   "name": "python",
   "nbconvert_exporter": "python",
   "pygments_lexer": "ipython3",
   "version": "3.8.3"
  }
 },
 "nbformat": 4,
 "nbformat_minor": 4
}
