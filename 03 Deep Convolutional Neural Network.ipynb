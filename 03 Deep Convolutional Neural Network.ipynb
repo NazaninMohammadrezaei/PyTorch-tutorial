{
 "cells": [
  {
   "cell_type": "markdown",
   "metadata": {},
   "source": [
    "# Part 5: CNN intro"
   ]
  },
  {
   "cell_type": "code",
   "execution_count": 2,
   "metadata": {},
   "outputs": [
    {
     "name": "stderr",
     "output_type": "stream",
     "text": [
      "  0%|▎                                                                             | 50/12501 [00:00<00:25, 494.70it/s]"
     ]
    },
    {
     "name": "stdout",
     "output_type": "stream",
     "text": [
      "PetImages/Cat\n"
     ]
    },
    {
     "name": "stderr",
     "output_type": "stream",
     "text": [
      "100%|████████████████████████████████████████████████████████████████████████████| 12501/12501 [02:48<00:00, 74.29it/s]\n",
      "  0%|                                                                               | 10/12501 [00:00<02:06, 98.94it/s]"
     ]
    },
    {
     "name": "stdout",
     "output_type": "stream",
     "text": [
      "PetImages/Dog\n"
     ]
    },
    {
     "name": "stderr",
     "output_type": "stream",
     "text": [
      "100%|████████████████████████████████████████████████████████████████████████████| 12501/12501 [02:05<00:00, 99.42it/s]\n",
      "C:\\Users\\chortkeh\\anaconda3\\lib\\site-packages\\numpy\\core\\_asarray.py:136: VisibleDeprecationWarning: Creating an ndarray from ragged nested sequences (which is a list-or-tuple of lists-or-tuples-or ndarrays with different lengths or shapes) is deprecated. If you meant to do this, you must specify 'dtype=object' when creating the ndarray\n",
      "  return array(a, dtype, copy=False, order=order, subok=True)\n"
     ]
    },
    {
     "name": "stdout",
     "output_type": "stream",
     "text": [
      "Cats: 12476\n",
      "Dogs: 12470\n"
     ]
    }
   ],
   "source": [
    "'''\n",
    "____________Author_____________\n",
    "Nazanin Mohammadrezaei\n",
    "\n",
    "__________ Resource ___________\n",
    "Sentdex YouTube channel\n",
    "\n",
    "___________ Playlist __________\n",
    "Deep Learning and Neural Networks using PyTorch\n",
    "\n",
    "___________ Video ____________\n",
    "Part 5-6 : Convnet intro our Training Convnet\n",
    "\n",
    "'''\n",
    "\n",
    "\n",
    "\n",
    "import os\n",
    "import numpy as np\n",
    "from tqdm import tqdm\n",
    "import cv2 \n",
    "\n",
    "\n",
    "\n",
    "# make a dataset containing each image (of both dogs and cats) besides its class number\n",
    "REBUILD_DATA = True\n",
    "\n",
    "class DogVsCat():\n",
    "    \n",
    "    IMG_SIZE = 50\n",
    "    Cat = \"PetImages/Cat\"\n",
    "    Dog = \"PetImages/Dog\"\n",
    "    LABELS = {Cat:0, Dog:1}\n",
    "    training_data = []\n",
    "    catcount = 0\n",
    "    dogcount = 0\n",
    "    \n",
    "    def make_training_data(self):\n",
    "        for label in self.LABELS:\n",
    "            print(label)\n",
    "            for file in tqdm(os.listdir(label)):\n",
    "                try:\n",
    "                    # reading the data\n",
    "                    path = os.path.join(label,file)\n",
    "                    img = cv2.imread(path,cv2.IMREAD_GRAYSCALE)\n",
    "                    img = cv2.resize(img,(self.IMG_SIZE, self.IMG_SIZE))\n",
    "                    \n",
    "                    # add each data and its class to training_data\n",
    "                    # use hot vectors to demonstrate classes: class0: [1,0] and class1:[0,1]\n",
    "                    self.training_data.append([np.array(img,dtype='object'),np.eye(2)[self.LABELS[label]]])\n",
    "\n",
    "                    # count the number of cats and dogs\n",
    "                    if label == self.Cat:\n",
    "                        self.catcount += 1\n",
    "                    elif label == self.Dog:\n",
    "                        self.dogcount += 1\n",
    "                        \n",
    "                except Exception as e:\n",
    "                    pass\n",
    "\n",
    "        # shuffle and save the training set\n",
    "        np.random.shuffle(self.training_data)\n",
    "        np.save(\"training_data.npy\", self.training_data)\n",
    "        print('Cats:',self.catcount)\n",
    "        print('Dogs:',self.dogcount)\n",
    "\n",
    "if REBUILD_DATA:\n",
    "    dogVscat = DogVsCat()\n",
    "    dogVscat.make_training_data()\n"
   ]
  },
  {
   "cell_type": "markdown",
   "metadata": {},
   "source": [
    "# Part 6: Training a CNN"
   ]
  },
  {
   "cell_type": "code",
   "execution_count": 3,
   "metadata": {},
   "outputs": [
    {
     "name": "stdout",
     "output_type": "stream",
     "text": [
      "Net(\n",
      "  (conv1): Conv2d(1, 32, kernel_size=(5, 5), stride=(1, 1))\n",
      "  (conv2): Conv2d(32, 64, kernel_size=(5, 5), stride=(1, 1))\n",
      "  (conv3): Conv2d(64, 128, kernel_size=(5, 5), stride=(1, 1))\n",
      "  (fc1): Linear(in_features=512, out_features=512, bias=True)\n",
      "  (fc2): Linear(in_features=512, out_features=2, bias=True)\n",
      ")\n"
     ]
    }
   ],
   "source": [
    "import torch\n",
    "import torch.nn as nn\n",
    "import torch.nn.functional as F\n",
    "\n",
    "# the neural network\n",
    "class Net(nn.Module):\n",
    "    def __init__(self):\n",
    "        super().__init__()\n",
    "        # three convolution layers\n",
    "        self.conv1 = nn.Conv2d(1,32,5)\n",
    "        self.conv2 = nn.Conv2d(32,64,5)\n",
    "        self.conv3 = nn.Conv2d(64,128,5)\n",
    "        \n",
    "        # generate a random image, and guide through the network to figure out the size of first fully connected layer \n",
    "        # this line gives us 512 as the size of fc1\n",
    "        x = torch.randn(50,50).view(-1,1,50,50)\n",
    "        self._to_linear = None\n",
    "        self.convs(x)\n",
    "        \n",
    "        # two fully connected layers\n",
    "        self.fc1 = nn.Linear(self._to_linear,512)\n",
    "        self.fc2 = nn.Linear(512,2)\n",
    "        \n",
    "    def convs(self,x):\n",
    "        # max pooling\n",
    "        x = F.max_pool2d(F.relu(self.conv1(x)),2,2)\n",
    "        x = F.max_pool2d(F.relu(self.conv2(x)),2,2)\n",
    "        x = F.max_pool2d(F.relu(self.conv3(x)),2,2)\n",
    "        \n",
    "        # calculate the size of fc1\n",
    "        if self._to_linear is None:\n",
    "            self._to_linear = x[0].shape[0] * x[0].shape[1] * x[0].shape[2]\n",
    "        return x\n",
    "    \n",
    "    def forward(self,x):\n",
    "        x = self.convs(x)\n",
    "        x = x.view(-1,self._to_linear)\n",
    "        x = F.relu(self.fc1(x))\n",
    "        x = self.fc2(x)\n",
    "        return F.softmax(x, dim=1)\n",
    "    \n",
    "    \n",
    "net = Net()\n",
    "print(net)"
   ]
  },
  {
   "cell_type": "code",
   "execution_count": 4,
   "metadata": {},
   "outputs": [
    {
     "name": "stdout",
     "output_type": "stream",
     "text": [
      "the shape of training data:  (24946, 2) \n",
      "\n",
      "first unit of data looks like: \n",
      " [array([[255, 255, 253, ..., 254, 255, 255],\n",
      "       [255, 253, 246, ..., 248, 253, 255],\n",
      "       [254, 246, 221, ..., 229, 248, 255],\n",
      "       ...,\n",
      "       [253, 245, 211, ..., 143, 227, 255],\n",
      "       [253, 243, 212, ..., 150, 232, 255],\n",
      "       [253, 246, 224, ..., 185, 238, 254]], dtype=object)\n",
      " array([1., 0.])]\n"
     ]
    },
    {
     "name": "stderr",
     "output_type": "stream",
     "text": [
      "<ipython-input-4-91330d66b651>:15: UserWarning: Creating a tensor from a list of numpy.ndarrays is extremely slow. Please consider converting the list to a single numpy.ndarray with numpy.array() before converting to a tensor. (Triggered internally at  C:\\cb\\pytorch_1000000000000\\work\\torch\\csrc\\utils\\tensor_new.cpp:204.)\n",
      "  X = torch.Tensor([i[0] for i in training_data]).view(-1,50,50)\n",
      "  0%|                                                                                          | 0/225 [00:00<?, ?it/s]"
     ]
    },
    {
     "name": "stdout",
     "output_type": "stream",
     "text": [
      "trainset size:  22452 \n",
      " testset size:  2494 \n",
      "\n"
     ]
    },
    {
     "name": "stderr",
     "output_type": "stream",
     "text": [
      "100%|████████████████████████████████████████████████████████████████████████████████| 225/225 [02:40<00:00,  1.40it/s]\n",
      "  0%|                                                                                          | 0/225 [00:00<?, ?it/s]"
     ]
    },
    {
     "name": "stdout",
     "output_type": "stream",
     "text": [
      "Epoch: 0. Loss: 0.23205877840518951\n"
     ]
    },
    {
     "name": "stderr",
     "output_type": "stream",
     "text": [
      "100%|████████████████████████████████████████████████████████████████████████████████| 225/225 [02:43<00:00,  1.38it/s]\n",
      "  0%|                                                                                          | 0/225 [00:00<?, ?it/s]"
     ]
    },
    {
     "name": "stdout",
     "output_type": "stream",
     "text": [
      "Epoch: 1. Loss: 0.23176461458206177\n"
     ]
    },
    {
     "name": "stderr",
     "output_type": "stream",
     "text": [
      "100%|████████████████████████████████████████████████████████████████████████████████| 225/225 [03:01<00:00,  1.24it/s]\n",
      "  0%|                                                                                         | 0/2494 [00:00<?, ?it/s]"
     ]
    },
    {
     "name": "stdout",
     "output_type": "stream",
     "text": [
      "Epoch: 2. Loss: 0.18345031142234802\n",
      "\n",
      "\n"
     ]
    },
    {
     "name": "stderr",
     "output_type": "stream",
     "text": [
      "100%|██████████████████████████████████████████████████████████████████████████████| 2494/2494 [05:00<00:00,  8.30it/s]\n"
     ]
    },
    {
     "name": "stdout",
     "output_type": "stream",
     "text": [
      "Accuracy:  0.735\n"
     ]
    }
   ],
   "source": [
    "import torch.optim as optim\n",
    "\n",
    "# load the dataset which contains each image besides its class number\n",
    "training_data = np.load('training_data.npy',allow_pickle=True)\n",
    "print('the shape of training data: ',training_data.shape,'\\n')\n",
    "print('first unit of data looks like:','\\n',training_data[0])\n",
    "\n",
    "\n",
    "# set a learning rate and a loss function (mean squared error)\n",
    "optimizer = optim.Adam(net.parameters(), lr=0.001)\n",
    "loss_function = nn.MSELoss()\n",
    "\n",
    "\n",
    "# divide your dataset into train and test set\n",
    "X = torch.Tensor([i[0] for i in training_data]).view(-1,50,50)\n",
    "X = X/255.0\n",
    "y = torch.Tensor([i[1] for i in training_data])\n",
    "\n",
    "\n",
    "VAL_PCT = 0.1     # reserve 10% of our data for the test set\n",
    "val_size = int(len(X)*VAL_PCT)\n",
    "\n",
    "train_X = X[:-val_size]\n",
    "train_y = y[:-val_size]\n",
    "\n",
    "test_X = X[-val_size:]\n",
    "test_y = y[-val_size:]\n",
    "\n",
    "print('trainset size: ',len(train_X),'\\n', 'testset size: ',len(test_X),'\\n')\n",
    "\n",
    "\n",
    "# train the network on the trainset\n",
    "BATCH_SIZE = 100\n",
    "EPOCHS = 2\n",
    "\n",
    "for epoch in range(EPOCHS):\n",
    "    for i in tqdm(range(0, len(train_X), BATCH_SIZE)): # from 0, to the len of x, stepping BATCH_SIZE at a time\n",
    "        batch_X = train_X[i:i+BATCH_SIZE].view(-1, 1, 50, 50)\n",
    "        batch_y = train_y[i:i+BATCH_SIZE]\n",
    "        net.zero_grad()     # make the gradients zero\n",
    "        outputs = net(batch_X)\n",
    "        loss = loss_function(outputs, batch_y)\n",
    "        loss.backward()\n",
    "        optimizer.step()    # Does the update\n",
    "    print(f\"Epoch: {epoch}. Loss: {loss}\")\n",
    "print('\\n')    \n",
    "\n",
    "\n",
    "# evaluate the accuracy of your network using your testset\n",
    "correct = 0\n",
    "total = 0\n",
    "with torch.no_grad():\n",
    "    for i in tqdm(range(len(test_X))):\n",
    "        real_class = torch.argmax(test_y[i])\n",
    "        net_out = net(test_X[i].view(-1, 1, 50, 50))[0]  # returns a list, \n",
    "        predicted_class = torch.argmax(net_out)\n",
    "\n",
    "        if predicted_class == real_class:\n",
    "            correct += 1\n",
    "        total += 1\n",
    "print(\"Accuracy: \", round(correct/total, 3))"
   ]
  }
 ],
 "metadata": {
  "kernelspec": {
   "display_name": "Python 3",
   "language": "python",
   "name": "python3"
  },
  "language_info": {
   "codemirror_mode": {
    "name": "ipython",
    "version": 3
   },
   "file_extension": ".py",
   "mimetype": "text/x-python",
   "name": "python",
   "nbconvert_exporter": "python",
   "pygments_lexer": "ipython3",
   "version": "3.8.3"
  }
 },
 "nbformat": 4,
 "nbformat_minor": 4
}
